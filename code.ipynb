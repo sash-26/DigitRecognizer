{
  "cells": [
    {
      "metadata": {
        "_uuid": "36d410df8a094a682c602d8ccdd8d2d0f1550332",
        "_cell_guid": "ecc4a61c-d9e8-1943-0e1a-0d5b23b105d9"
      },
      "cell_type": "markdown",
      "source": "Initial Setup"
    },
    {
      "metadata": {
        "collapsed": true,
        "_uuid": "99a9dd697ada70e4e53727f6eb8406a7ce5d1578",
        "_cell_guid": "f80b533e-53c2-d220-f544-58578745eb9d",
        "trusted": false
      },
      "cell_type": "code",
      "source": "\n\nimport numpy as np \nimport pandas as pd \nimport tensorflow as tf\nimport sklearn\nimport matplotlib.pyplot as plt\n%matplotlib inline",
      "execution_count": null,
      "outputs": []
    },
    {
      "metadata": {
        "collapsed": true,
        "_uuid": "ed98d431086bd84e0adb6a63f79ec15be31c700e",
        "_cell_guid": "1f60376c-6330-d6f7-7ac7-a5d9606c2369",
        "trusted": false
      },
      "cell_type": "code",
      "source": "train = pd.read_csv(\"../input/train.csv\")\ntest = data = pd.read_csv(\"../input/test.csv\")\nprint (train.shape)\nprint (test.shape)\ntrain.head(5)",
      "execution_count": null,
      "outputs": []
    },
    {
      "metadata": {
        "collapsed": true,
        "_uuid": "0c4b4f64a2fa1248fb1167636cf3f90a649559bb",
        "_cell_guid": "e031ecca-b93c-c73a-901e-92d104c0dc39",
        "trusted": false
      },
      "cell_type": "code",
      "source": "target = train['label']\nfeatures = train.drop('label',axis=1)",
      "execution_count": null,
      "outputs": []
    },
    {
      "metadata": {
        "collapsed": true,
        "_uuid": "119d95790cda0ebb263ef0d108273d851000c30f",
        "_cell_guid": "0cb16903-a8b5-e647-f80b-39bc78cde8cb",
        "trusted": false
      },
      "cell_type": "code",
      "source": "import matplotlib.pyplot as plt\n%matplotlib inline\n\ndef showImage(index):\n    label = target[index].argmax(axis=0)\n    img = features.iloc[index].reshape([28,28])\n    plt.title(\"Index: {} , Label: {}\".format(index, label))\n    plt.imshow(img, cmap='gray')\n    plt.show()\n    \nshowImage(50)    ",
      "execution_count": null,
      "outputs": []
    },
    {
      "metadata": {
        "_uuid": "fd47b0d90bf8492ddb39a6fb6a1133d87e993ffc",
        "_cell_guid": "a1965321-c187-be91-9674-6b07ff3cd59f"
      },
      "cell_type": "markdown",
      "source": "Building The Network"
    },
    {
      "metadata": {
        "collapsed": true,
        "_uuid": "a05eebfa0950a1c720b1b4fd76a741c74324c573",
        "_cell_guid": "e53d3d78-735c-5b2d-03b7-0a855a2a5be8",
        "trusted": false
      },
      "cell_type": "code",
      "source": "#Reshape the image to [28,28]\n#features = np.array(features)\n#features = np.reshape(features, [-1,28,28,1])\nfor i in range(len(features)):\n    features.iloc[i].reshape([28,28])",
      "execution_count": null,
      "outputs": []
    },
    {
      "metadata": {
        "collapsed": true,
        "_uuid": "3f8bbacaba327c6d27fb5e9a1f57a37e0ab55b23",
        "_cell_guid": "288b5a4f-264f-c7f6-e0d8-89f4b44af363",
        "trusted": false
      },
      "cell_type": "code",
      "source": "def conv_layer(x, height, width, input_channels, output_channels):\n    weights = tf.Variable(tf.truncated_normal([height, width, input_channels, output_channels], stddev=0.1))\n    biases  = tf.Variable(tf.zeros(output_channels))\n    layer = (tf.nn.conv2d(x, weights, strides = [1,2,2,1], padding = 'SAME') + biases)\n    layer = tf.nn.relu(layer)\n    layer = tf.nn.max_pool(layer, ksize = [1,2,2,1], strides = [1,2,2,1], padding = 'SAME')\n    return layer\n\ndef fully_connected(x, outputs):\n    weights = tf.Variable(tf.truncated_normal([x.get_shape().as_list()[1], outputs], stddev=0.1))\n    biases = tf.Variable(tf.zeros(outputs))\n    layer = tf.matmul(x, weights) + biases\n    layer = tf.nn.relu(layer)\n    return layer\n\nfinal_weights = tf.Variable(tf.truncated_normal([56 ,10], stddev=0.1))\nfinal_biases = tf.Variable(tf.ones(10))\nX = tf.placeholder(tf.float32, [None,28,28,1])\ny = tf.placeholder(tf.float32, [None,10])\nkeep_prob = tf.placeholder(tf.float32)\n\nlayer1 = conv_layer(X, 1, 1, 1, 4)\nlayer2 = conv_layer(layer1, 2, 2, 4, 8)\nfinal = tf.contrib.layers.flatten(layer1)\n\nfinal1 = fully_connected(final, 28)\nfinal1 = tf.nn.dropout(final1, keep_prob)\n\nfinal2 = fully_connected(final1, 56)\nfinal2 = tf.nn.dropout(final2, keep_prob)\n\nlogits = tf.matmul(final2, final_weights) + final_biases\n\n",
      "execution_count": null,
      "outputs": []
    },
    {
      "metadata": {
        "_uuid": "ef6ad7d8b884046c54daa8e3580bc24c62df7514",
        "_cell_guid": "ca06e220-de41-3af9-ff57-6b18ec33ac70"
      },
      "cell_type": "markdown",
      "source": "Optimization"
    },
    {
      "metadata": {
        "collapsed": true,
        "_uuid": "c432889e6f4ca3951f139c89e173796b78dd1971",
        "_cell_guid": "3af06269-0945-6e1b-ce6d-bad45d304a38",
        "trusted": false
      },
      "cell_type": "code",
      "source": "epochs = 5\nkeep_prob = 0.5\n\n# Loss and Optimizer\ncost = tf.reduce_mean(tf.nn.softmax_cross_entropy_with_logits(logits=logits, labels=y))\noptimizer = tf.train.AdamOptimizer(0.05).minimize(cost)\n\n# Accuracy\ncorrect_pred = tf.equal(tf.argmax(logits, 1), tf.argmax(y, 1))\naccuracy = tf.reduce_mean(tf.cast(correct_pred, tf.float32), name='accuracy')",
      "execution_count": null,
      "outputs": []
    },
    {
      "metadata": {
        "_uuid": "4a172da95c894980d2b51996ee7f9f488fff6a32",
        "_cell_guid": "d628bec3-1214-79ed-1786-4d2bfea97e98"
      },
      "cell_type": "markdown",
      "source": "Training the Model"
    },
    {
      "metadata": {
        "collapsed": true,
        "_uuid": "a0dbc053b990ffcbd1cf2a6ec669316c2f264d38",
        "_cell_guid": "fb2845d8-7d09-495a-da21-e51767ba7868",
        "trusted": false
      },
      "cell_type": "code",
      "source": "with tf.Session() as sess:\n    sess.run(tf.global_variables_initializer())\n    for i in range(epochs):\n        sess.run(optimizer, feed_dict= {X: features, y: target, keep_prob: keep_prob})\n        print (\"Loss: {}\".format(session.run(cost, feed_dict = {X: features, y: target})))\n            \n        ",
      "execution_count": null,
      "outputs": []
    },
    {
      "metadata": {
        "collapsed": true,
        "_uuid": "729cf27e8734bb9aba8e18d6ff2286c2d4469e44",
        "_cell_guid": "da70458f-c292-da77-fc7d-17a03ca8ca9e",
        "trusted": false
      },
      "cell_type": "code",
      "source": "",
      "execution_count": null,
      "outputs": []
    }
  ],
  "metadata": {
    "language_info": {
      "name": "python",
      "version": "3.6.6",
      "mimetype": "text/x-python",
      "codemirror_mode": {
        "name": "ipython",
        "version": 3
      },
      "pygments_lexer": "ipython3",
      "nbconvert_exporter": "python",
      "file_extension": ".py"
    },
    "_is_fork": false,
    "_change_revision": 0,
    "kernelspec": {
      "display_name": "Python 3",
      "language": "python",
      "name": "python3"
    }
  },
  "nbformat": 4,
  "nbformat_minor": 1
}